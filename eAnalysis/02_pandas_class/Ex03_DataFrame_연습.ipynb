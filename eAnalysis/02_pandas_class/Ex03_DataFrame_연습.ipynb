{
 "cells": [
  {
   "cell_type": "code",
   "execution_count": 30,
   "metadata": {},
   "outputs": [
    {
     "data": {
      "text/html": [
       "<div>\n",
       "<style scoped>\n",
       "    .dataframe tbody tr th:only-of-type {\n",
       "        vertical-align: middle;\n",
       "    }\n",
       "\n",
       "    .dataframe tbody tr th {\n",
       "        vertical-align: top;\n",
       "    }\n",
       "\n",
       "    .dataframe thead th {\n",
       "        text-align: right;\n",
       "    }\n",
       "</style>\n",
       "<table border=\"1\" class=\"dataframe\">\n",
       "  <thead>\n",
       "    <tr style=\"text-align: right;\">\n",
       "      <th></th>\n",
       "      <th>판매건수</th>\n",
       "      <th>가격</th>\n",
       "      <th>매출</th>\n",
       "    </tr>\n",
       "    <tr>\n",
       "      <th>상품명</th>\n",
       "      <th></th>\n",
       "      <th></th>\n",
       "      <th></th>\n",
       "    </tr>\n",
       "  </thead>\n",
       "  <tbody>\n",
       "    <tr>\n",
       "      <th>봉투</th>\n",
       "      <td>12362</td>\n",
       "      <td>50</td>\n",
       "      <td>618100</td>\n",
       "    </tr>\n",
       "    <tr>\n",
       "      <th>바나나</th>\n",
       "      <td>4285</td>\n",
       "      <td>3900</td>\n",
       "      <td>16711500</td>\n",
       "    </tr>\n",
       "    <tr>\n",
       "      <th>야채</th>\n",
       "      <td>4190</td>\n",
       "      <td>0</td>\n",
       "      <td>0</td>\n",
       "    </tr>\n",
       "    <tr>\n",
       "      <th>켐벨포도</th>\n",
       "      <td>2780</td>\n",
       "      <td>29800</td>\n",
       "      <td>82844000</td>\n",
       "    </tr>\n",
       "    <tr>\n",
       "      <th>알뜰특란</th>\n",
       "      <td>2768</td>\n",
       "      <td>5300</td>\n",
       "      <td>14670400</td>\n",
       "    </tr>\n",
       "    <tr>\n",
       "      <th>...</th>\n",
       "      <td>...</td>\n",
       "      <td>...</td>\n",
       "      <td>...</td>\n",
       "    </tr>\n",
       "    <tr>\n",
       "      <th>바지락</th>\n",
       "      <td>253</td>\n",
       "      <td>0</td>\n",
       "      <td>0</td>\n",
       "    </tr>\n",
       "    <tr>\n",
       "      <th>해표)카놀라유</th>\n",
       "      <td>253</td>\n",
       "      <td>5600</td>\n",
       "      <td>1416800</td>\n",
       "    </tr>\n",
       "    <tr>\n",
       "      <th>오)자른당면</th>\n",
       "      <td>252</td>\n",
       "      <td>5850</td>\n",
       "      <td>1474200</td>\n",
       "    </tr>\n",
       "    <tr>\n",
       "      <th>롯데)알뜰소시지</th>\n",
       "      <td>252</td>\n",
       "      <td>4400</td>\n",
       "      <td>1108800</td>\n",
       "    </tr>\n",
       "    <tr>\n",
       "      <th>한돈앞다리/불고기,찌개(국내산)</th>\n",
       "      <td>252</td>\n",
       "      <td>0</td>\n",
       "      <td>0</td>\n",
       "    </tr>\n",
       "  </tbody>\n",
       "</table>\n",
       "<p>200 rows × 3 columns</p>\n",
       "</div>"
      ],
      "text/plain": [
       "                    판매건수     가격        매출\n",
       "상품명                                      \n",
       "봉투                 12362     50    618100\n",
       "바나나                 4285   3900  16711500\n",
       "야채                  4190      0         0\n",
       "켐벨포도                2780  29800  82844000\n",
       "알뜰특란                2768   5300  14670400\n",
       "...                  ...    ...       ...\n",
       "바지락                  253      0         0\n",
       "해표)카놀라유              253   5600   1416800\n",
       "오)자른당면               252   5850   1474200\n",
       "롯데)알뜰소시지             252   4400   1108800\n",
       "한돈앞다리/불고기,찌개(국내산)    252      0         0\n",
       "\n",
       "[200 rows x 3 columns]"
      ]
     },
     "execution_count": 30,
     "metadata": {},
     "output_type": "execute_result"
    }
   ],
   "source": [
    "import pandas as pd\n",
    "\n",
    "df = pd.read_excel('data/2016-01.xls' , index_col='상품명')\n",
    "\n",
    "df"
   ]
  },
  {
   "cell_type": "markdown",
   "metadata": {},
   "source": [
    "#### 판다스 데이타프레임의 기본적인 정보 얻어오기\n",
    "\n",
    "- 앞에 10개 행 보기\n",
    "- 뒤에 10개 행 보기\n",
    "\n",
    "- 판매건수에서 큰 값 순으로 10개 (nlargest()이용)\n",
    "- 판매건수에서 작은 값 순으로 10개 (nsmallest()이용)\n"
   ]
  },
  {
   "cell_type": "code",
   "execution_count": 22,
   "metadata": {},
   "outputs": [
    {
     "data": {
      "text/html": [
       "<div>\n",
       "<style scoped>\n",
       "    .dataframe tbody tr th:only-of-type {\n",
       "        vertical-align: middle;\n",
       "    }\n",
       "\n",
       "    .dataframe tbody tr th {\n",
       "        vertical-align: top;\n",
       "    }\n",
       "\n",
       "    .dataframe thead th {\n",
       "        text-align: right;\n",
       "    }\n",
       "</style>\n",
       "<table border=\"1\" class=\"dataframe\">\n",
       "  <thead>\n",
       "    <tr style=\"text-align: right;\">\n",
       "      <th></th>\n",
       "      <th>상품명</th>\n",
       "      <th>판매건수</th>\n",
       "      <th>가격</th>\n",
       "      <th>매출</th>\n",
       "    </tr>\n",
       "  </thead>\n",
       "  <tbody>\n",
       "    <tr>\n",
       "      <th>197</th>\n",
       "      <td>오)자른당면</td>\n",
       "      <td>252</td>\n",
       "      <td>5850</td>\n",
       "      <td>1474200</td>\n",
       "    </tr>\n",
       "    <tr>\n",
       "      <th>198</th>\n",
       "      <td>롯데)알뜰소시지</td>\n",
       "      <td>252</td>\n",
       "      <td>4400</td>\n",
       "      <td>1108800</td>\n",
       "    </tr>\n",
       "    <tr>\n",
       "      <th>199</th>\n",
       "      <td>한돈앞다리/불고기,찌개(국내산)</td>\n",
       "      <td>252</td>\n",
       "      <td>0</td>\n",
       "      <td>0</td>\n",
       "    </tr>\n",
       "    <tr>\n",
       "      <th>194</th>\n",
       "      <td>CJ)행콩나물</td>\n",
       "      <td>253</td>\n",
       "      <td>1950</td>\n",
       "      <td>493350</td>\n",
       "    </tr>\n",
       "    <tr>\n",
       "      <th>195</th>\n",
       "      <td>바지락</td>\n",
       "      <td>253</td>\n",
       "      <td>0</td>\n",
       "      <td>0</td>\n",
       "    </tr>\n",
       "    <tr>\n",
       "      <th>196</th>\n",
       "      <td>해표)카놀라유</td>\n",
       "      <td>253</td>\n",
       "      <td>5600</td>\n",
       "      <td>1416800</td>\n",
       "    </tr>\n",
       "    <tr>\n",
       "      <th>192</th>\n",
       "      <td>온동네광천파래재래김(전장)</td>\n",
       "      <td>255</td>\n",
       "      <td>2550</td>\n",
       "      <td>650250</td>\n",
       "    </tr>\n",
       "    <tr>\n",
       "      <th>193</th>\n",
       "      <td>새송이버섯</td>\n",
       "      <td>255</td>\n",
       "      <td>0</td>\n",
       "      <td>0</td>\n",
       "    </tr>\n",
       "    <tr>\n",
       "      <th>191</th>\n",
       "      <td>CJ)주부초밥왕(소풍)</td>\n",
       "      <td>256</td>\n",
       "      <td>3750</td>\n",
       "      <td>960000</td>\n",
       "    </tr>\n",
       "    <tr>\n",
       "      <th>190</th>\n",
       "      <td>황도복숭아</td>\n",
       "      <td>258</td>\n",
       "      <td>0</td>\n",
       "      <td>0</td>\n",
       "    </tr>\n",
       "  </tbody>\n",
       "</table>\n",
       "</div>"
      ],
      "text/plain": [
       "                   상품명  판매건수    가격       매출\n",
       "197             오)자른당면   252  5850  1474200\n",
       "198           롯데)알뜰소시지   252  4400  1108800\n",
       "199  한돈앞다리/불고기,찌개(국내산)   252     0        0\n",
       "194            CJ)행콩나물   253  1950   493350\n",
       "195                바지락   253     0        0\n",
       "196            해표)카놀라유   253  5600  1416800\n",
       "192     온동네광천파래재래김(전장)   255  2550   650250\n",
       "193              새송이버섯   255     0        0\n",
       "191       CJ)주부초밥왕(소풍)   256  3750   960000\n",
       "190              황도복숭아   258     0        0"
      ]
     },
     "execution_count": 22,
     "metadata": {},
     "output_type": "execute_result"
    }
   ],
   "source": [
    "#df.head()\n",
    "\n",
    "#df.tail()\n",
    "\n",
    "#df.nlargest(10, '판매건수', keep='first')\n",
    "\n",
    "df.nsmallest(10, '판매건수' )"
   ]
  },
  {
   "cell_type": "markdown",
   "metadata": {},
   "source": [
    "#### 컬럼으로 추출\n",
    "\n",
    "- 컬럼명들을 출력\n",
    "- 판매건수 데이타 출력\n"
   ]
  },
  {
   "cell_type": "code",
   "execution_count": 32,
   "metadata": {},
   "outputs": [
    {
     "data": {
      "text/plain": [
       "count      200.000000\n",
       "mean       732.255000\n",
       "std       1012.749454\n",
       "min        252.000000\n",
       "25%        311.250000\n",
       "50%        484.000000\n",
       "75%        741.500000\n",
       "max      12362.000000\n",
       "Name: 판매건수, dtype: float64"
      ]
     },
     "execution_count": 32,
     "metadata": {},
     "output_type": "execute_result"
    }
   ],
   "source": [
    "df.columns\n",
    "df['판매건수'].describe()"
   ]
  },
  {
   "cell_type": "markdown",
   "metadata": {},
   "source": [
    "#### 일련번호로 데이타 추출\n",
    "\n",
    "- 1번째 행 레코드 출력\n",
    "- '바나나' 행 레코드 출력"
   ]
  },
  {
   "cell_type": "code",
   "execution_count": 26,
   "metadata": {},
   "outputs": [
    {
     "data": {
      "text/plain": [
       "상품명          바나나\n",
       "판매건수        4285\n",
       "가격          3900\n",
       "매출      16711500\n",
       "Name: 1, dtype: object"
      ]
     },
     "execution_count": 26,
     "metadata": {},
     "output_type": "execute_result"
    }
   ],
   "source": [
    "df.loc[0]\n",
    "df.loc[1]"
   ]
  },
  {
   "cell_type": "markdown",
   "metadata": {},
   "source": [
    "#### 행에서 데이타 추출\n",
    "\n",
    "- 야채, 딸기, 봉투행을 추출하여 매출순으로 정렬하기 (sort_values()이용)\n",
    "- 바나나행부터 딸기행까지 추출\n",
    "- 야채부터 딸기행까지 추출"
   ]
  },
  {
   "cell_type": "code",
   "execution_count": 35,
   "metadata": {
    "scrolled": true
   },
   "outputs": [
    {
     "data": {
      "text/plain": [
       "상품명\n",
       "야채          0\n",
       "켐벨포도    29800\n",
       "알뜰특란     5300\n",
       "딸기          0\n",
       "Name: 가격, dtype: int64"
      ]
     },
     "execution_count": 35,
     "metadata": {},
     "output_type": "execute_result"
    }
   ],
   "source": [
    "#df.loc[['야채', '딸기', '봉투']].sort_values('매출', ascending=False)\n",
    "\n",
    "df.loc['야채':'딸기','가격']"
   ]
  },
  {
   "cell_type": "markdown",
   "metadata": {},
   "source": [
    "#### 조건으로 검색\n",
    "\n",
    "- 가격이 10000 초과 상품 출력\n",
    "- 가격이 10000에서 20000 사이 상품 출력"
   ]
  },
  {
   "cell_type": "code",
   "execution_count": null,
   "metadata": {},
   "outputs": [],
   "source": []
  },
  {
   "cell_type": "markdown",
   "metadata": {},
   "source": [
    "#### 판매건수로 정렬"
   ]
  },
  {
   "cell_type": "code",
   "execution_count": null,
   "metadata": {},
   "outputs": [],
   "source": []
  },
  {
   "cell_type": "markdown",
   "metadata": {},
   "source": [
    "#### 가격순으로 정렬하되 판매건수와 가격만 추출"
   ]
  },
  {
   "cell_type": "code",
   "execution_count": null,
   "metadata": {},
   "outputs": [],
   "source": []
  }
 ],
 "metadata": {
  "kernelspec": {
   "display_name": "Python 3 (ipykernel)",
   "language": "python",
   "name": "python3"
  },
  "language_info": {
   "codemirror_mode": {
    "name": "ipython",
    "version": 3
   },
   "file_extension": ".py",
   "mimetype": "text/x-python",
   "name": "python",
   "nbconvert_exporter": "python",
   "pygments_lexer": "ipython3",
   "version": "3.9.13"
  }
 },
 "nbformat": 4,
 "nbformat_minor": 2
}
